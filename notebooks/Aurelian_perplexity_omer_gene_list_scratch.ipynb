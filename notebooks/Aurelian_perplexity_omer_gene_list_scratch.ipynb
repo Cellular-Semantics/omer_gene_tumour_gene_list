{
 "cells": [
  {
   "cell_type": "code",
   "execution_count": 30,
   "id": "902c30c0-ff58-454f-8f58-f8e2758866c2",
   "metadata": {},
   "outputs": [],
   "source": [
    "from aurelian.agents.web.web_config import get_config\n",
    "from aurelian.agents.web import web_tools"
   ]
  },
  {
   "cell_type": "code",
   "execution_count": 29,
   "id": "f05e82f6-b1d5-482c-ace3-c8ad07d86c07",
   "metadata": {},
   "outputs": [
    {
     "data": {
      "text/plain": [
       "WebDependencies(workdir=None)"
      ]
     },
     "execution_count": 29,
     "metadata": {},
     "output_type": "execute_result"
    }
   ],
   "source": [
    "deps = get_config()\n",
    "deps"
   ]
  },
  {
   "cell_type": "code",
   "execution_count": null,
   "id": "22e7fff3-2c6d-4101-8dc0-05f864d4f8a6",
   "metadata": {},
   "outputs": [],
   "source": [
    "result = await biblio_agent.run()"
   ]
  },
  {
   "cell_type": "code",
   "execution_count": 27,
   "id": "8367b7c1-ec2d-4df9-9220-946e9527105b",
   "metadata": {},
   "outputs": [],
   "source": [
    "from aurelian.agents.web.web_tools import perplexity_query\n",
    "from aurelian.agents.web.web_config import get_config"
   ]
  },
  {
   "cell_type": "code",
   "execution_count": 18,
   "id": "89bde912-7eff-430b-a1f1-25ea3737af94",
   "metadata": {},
   "outputs": [],
   "source": [
    "gene_list = ['CFAP54', 'IGFBP7', 'VOPP1', 'AQP4', 'LANCL2', 'AC074351.1', 'DTHD1', 'AC012405.1', 'RTN1', 'MTRNR2L12']\n",
    "annotated_type = 'astrocyte precursor'\n",
    "query = (\"The following is a list of genes enriched in a (human) cancer cell-type in a glioblastoma sample \",\n",
    "        f\"annotated as {annotated_type}. \",\n",
    "        \"What might this list say about the state, processes and cell-cell interactions this cell type? \",\n",
    "        \"Do not limit your answers to the cancer literature, \",\n",
    "        \"include normal cell-cell interactions, development and cross-cutting metabolic states\",\n",
    "        f\"Gene list: {str(gene_list)}\")"
   ]
  },
  {
   "cell_type": "code",
   "execution_count": 19,
   "id": "4eddcff4-5068-4308-a598-cd1792acdada",
   "metadata": {},
   "outputs": [
    {
     "data": {
      "text/plain": [
       "('The following is a list of genes enriched in a (human) cancer cell-type in a glioblastoma sample ',\n",
       " 'annotated as astrocyte precursor. ',\n",
       " 'What might this list say about the state, processes and cell-cell interactions this cell type? ',\n",
       " 'Do not limit your answers to the cancer literature, ',\n",
       " 'include normal cell-cell interactions, development and cross-cutting metabolic states',\n",
       " \"Gene list: ['CFAP54', 'IGFBP7', 'VOPP1', 'AQP4', 'LANCL2', 'AC074351.1', 'DTHD1', 'AC012405.1', 'RTN1', 'MTRNR2L12']\")"
      ]
     },
     "execution_count": 19,
     "metadata": {},
     "output_type": "execute_result"
    }
   ],
   "source": [
    "query"
   ]
  },
  {
   "cell_type": "code",
   "execution_count": 21,
   "id": "4eb2fff5-32b3-4b4f-8c8e-87d0dd839acb",
   "metadata": {},
   "outputs": [
    {
     "name": "stderr",
     "output_type": "stream",
     "text": [
      "/var/folders/y6/g3929gvx2zl3gxgyl4871yd80000gq/T/ipykernel_70870/134888712.py:1: RuntimeWarning: coroutine 'perplexity_query' was never awaited\n",
      "  r = perplexity_query(query)\n",
      "RuntimeWarning: Enable tracemalloc to get the object allocation traceback\n"
     ]
    }
   ],
   "source": [
    "r = perplexity_query(query)"
   ]
  },
  {
   "cell_type": "raw",
   "id": "412a4bd9-ec54-4104-bb57-8ce1e0bca30a",
   "metadata": {},
   "source": [
    "r"
   ]
  },
  {
   "cell_type": "code",
   "execution_count": null,
   "id": "0fec7998-26e4-40ab-a460-158f63a7e50b",
   "metadata": {},
   "outputs": [],
   "source": []
  }
 ],
 "metadata": {
  "kernelspec": {
   "display_name": "Python 3 (ipykernel)",
   "language": "python",
   "name": "python3"
  },
  "language_info": {
   "codemirror_mode": {
    "name": "ipython",
    "version": 3
   },
   "file_extension": ".py",
   "mimetype": "text/x-python",
   "name": "python",
   "nbconvert_exporter": "python",
   "pygments_lexer": "ipython3",
   "version": "3.12.3"
  }
 },
 "nbformat": 4,
 "nbformat_minor": 5
}
